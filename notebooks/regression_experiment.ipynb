{
 "cells": [
  {
   "cell_type": "markdown",
   "metadata": {},
   "source": [
    "### **FlexML:** Regression Experiment with California House Value Prediction Dataset"
   ]
  },
  {
   "cell_type": "code",
   "execution_count": 1,
   "metadata": {},
   "outputs": [],
   "source": [
    "import warnings\n",
    "warnings.filterwarnings(\"ignore\")\n",
    "\n",
    "from flexml import Regression\n",
    "from sklearn.datasets import fetch_california_housing"
   ]
  },
  {
   "cell_type": "code",
   "execution_count": 2,
   "metadata": {},
   "outputs": [],
   "source": [
    "df = fetch_california_housing(as_frame = True)['frame']"
   ]
  },
  {
   "cell_type": "code",
   "execution_count": 3,
   "metadata": {},
   "outputs": [
    {
     "data": {
      "text/html": [
       "<div>\n",
       "<style scoped>\n",
       "    .dataframe tbody tr th:only-of-type {\n",
       "        vertical-align: middle;\n",
       "    }\n",
       "\n",
       "    .dataframe tbody tr th {\n",
       "        vertical-align: top;\n",
       "    }\n",
       "\n",
       "    .dataframe thead th {\n",
       "        text-align: right;\n",
       "    }\n",
       "</style>\n",
       "<table border=\"1\" class=\"dataframe\">\n",
       "  <thead>\n",
       "    <tr style=\"text-align: right;\">\n",
       "      <th></th>\n",
       "      <th>MedInc</th>\n",
       "      <th>HouseAge</th>\n",
       "      <th>AveRooms</th>\n",
       "      <th>AveBedrms</th>\n",
       "      <th>Population</th>\n",
       "      <th>AveOccup</th>\n",
       "      <th>Latitude</th>\n",
       "      <th>Longitude</th>\n",
       "      <th>MedHouseVal</th>\n",
       "    </tr>\n",
       "  </thead>\n",
       "  <tbody>\n",
       "    <tr>\n",
       "      <th>0</th>\n",
       "      <td>8.3252</td>\n",
       "      <td>41.0</td>\n",
       "      <td>6.984127</td>\n",
       "      <td>1.023810</td>\n",
       "      <td>322.0</td>\n",
       "      <td>2.555556</td>\n",
       "      <td>37.88</td>\n",
       "      <td>-122.23</td>\n",
       "      <td>4.526</td>\n",
       "    </tr>\n",
       "    <tr>\n",
       "      <th>1</th>\n",
       "      <td>8.3014</td>\n",
       "      <td>21.0</td>\n",
       "      <td>6.238137</td>\n",
       "      <td>0.971880</td>\n",
       "      <td>2401.0</td>\n",
       "      <td>2.109842</td>\n",
       "      <td>37.86</td>\n",
       "      <td>-122.22</td>\n",
       "      <td>3.585</td>\n",
       "    </tr>\n",
       "    <tr>\n",
       "      <th>2</th>\n",
       "      <td>7.2574</td>\n",
       "      <td>52.0</td>\n",
       "      <td>8.288136</td>\n",
       "      <td>1.073446</td>\n",
       "      <td>496.0</td>\n",
       "      <td>2.802260</td>\n",
       "      <td>37.85</td>\n",
       "      <td>-122.24</td>\n",
       "      <td>3.521</td>\n",
       "    </tr>\n",
       "    <tr>\n",
       "      <th>3</th>\n",
       "      <td>5.6431</td>\n",
       "      <td>52.0</td>\n",
       "      <td>5.817352</td>\n",
       "      <td>1.073059</td>\n",
       "      <td>558.0</td>\n",
       "      <td>2.547945</td>\n",
       "      <td>37.85</td>\n",
       "      <td>-122.25</td>\n",
       "      <td>3.413</td>\n",
       "    </tr>\n",
       "    <tr>\n",
       "      <th>4</th>\n",
       "      <td>3.8462</td>\n",
       "      <td>52.0</td>\n",
       "      <td>6.281853</td>\n",
       "      <td>1.081081</td>\n",
       "      <td>565.0</td>\n",
       "      <td>2.181467</td>\n",
       "      <td>37.85</td>\n",
       "      <td>-122.25</td>\n",
       "      <td>3.422</td>\n",
       "    </tr>\n",
       "  </tbody>\n",
       "</table>\n",
       "</div>"
      ],
      "text/plain": [
       "   MedInc  HouseAge  AveRooms  AveBedrms  Population  AveOccup  Latitude  \\\n",
       "0  8.3252      41.0  6.984127   1.023810       322.0  2.555556     37.88   \n",
       "1  8.3014      21.0  6.238137   0.971880      2401.0  2.109842     37.86   \n",
       "2  7.2574      52.0  8.288136   1.073446       496.0  2.802260     37.85   \n",
       "3  5.6431      52.0  5.817352   1.073059       558.0  2.547945     37.85   \n",
       "4  3.8462      52.0  6.281853   1.081081       565.0  2.181467     37.85   \n",
       "\n",
       "   Longitude  MedHouseVal  \n",
       "0    -122.23        4.526  \n",
       "1    -122.22        3.585  \n",
       "2    -122.24        3.521  \n",
       "3    -122.25        3.413  \n",
       "4    -122.25        3.422  "
      ]
     },
     "execution_count": 3,
     "metadata": {},
     "output_type": "execute_result"
    }
   ],
   "source": [
    "df.head()"
   ]
  },
  {
   "cell_type": "code",
   "execution_count": 4,
   "metadata": {},
   "outputs": [
    {
     "name": "stdout",
     "output_type": "stream",
     "text": [
      "<class 'pandas.core.frame.DataFrame'>\n",
      "RangeIndex: 20640 entries, 0 to 20639\n",
      "Data columns (total 9 columns):\n",
      " #   Column       Non-Null Count  Dtype  \n",
      "---  ------       --------------  -----  \n",
      " 0   MedInc       20640 non-null  float64\n",
      " 1   HouseAge     20640 non-null  float64\n",
      " 2   AveRooms     20640 non-null  float64\n",
      " 3   AveBedrms    20640 non-null  float64\n",
      " 4   Population   20640 non-null  float64\n",
      " 5   AveOccup     20640 non-null  float64\n",
      " 6   Latitude     20640 non-null  float64\n",
      " 7   Longitude    20640 non-null  float64\n",
      " 8   MedHouseVal  20640 non-null  float64\n",
      "dtypes: float64(9)\n",
      "memory usage: 1.4 MB\n"
     ]
    }
   ],
   "source": [
    "df.info()"
   ]
  },
  {
   "cell_type": "code",
   "execution_count": 5,
   "metadata": {},
   "outputs": [
    {
     "name": "stderr",
     "output_type": "stream",
     "text": [
      "INFO | 2024-09-01 20:03:14 | [PROCESS] Training the ML models\n",
      "100%|██████████| 6/6 [00:09<00:00,  1.61s/it]\n",
      "INFO | 2024-09-01 20:03:23 | [PROCESS] Model training is finished!\n"
     ]
    },
    {
     "data": {
      "text/html": [
       "<style type=\"text/css\">\n",
       "#T_a34b9_row0_col1, #T_a34b9_row0_col2, #T_a34b9_row0_col3, #T_a34b9_row0_col4 {\n",
       "  background-color: green;\n",
       "}\n",
       "</style>\n",
       "<table id=\"T_a34b9\">\n",
       "  <thead>\n",
       "    <tr>\n",
       "      <th class=\"blank level0\" >&nbsp;</th>\n",
       "      <th id=\"T_a34b9_level0_col0\" class=\"col_heading level0 col0\" >model_name</th>\n",
       "      <th id=\"T_a34b9_level0_col1\" class=\"col_heading level0 col1\" >r2</th>\n",
       "      <th id=\"T_a34b9_level0_col2\" class=\"col_heading level0 col2\" >mae</th>\n",
       "      <th id=\"T_a34b9_level0_col3\" class=\"col_heading level0 col3\" >mse</th>\n",
       "      <th id=\"T_a34b9_level0_col4\" class=\"col_heading level0 col4\" >rmse</th>\n",
       "    </tr>\n",
       "  </thead>\n",
       "  <tbody>\n",
       "    <tr>\n",
       "      <th id=\"T_a34b9_level0_row0\" class=\"row_heading level0 row0\" >0</th>\n",
       "      <td id=\"T_a34b9_row0_col0\" class=\"data row0 col0\" >CatBoostRegressor</td>\n",
       "      <td id=\"T_a34b9_row0_col1\" class=\"data row0 col1\" >0.849800</td>\n",
       "      <td id=\"T_a34b9_row0_col2\" class=\"data row0 col2\" >0.292900</td>\n",
       "      <td id=\"T_a34b9_row0_col3\" class=\"data row0 col3\" >0.198800</td>\n",
       "      <td id=\"T_a34b9_row0_col4\" class=\"data row0 col4\" >0.445900</td>\n",
       "    </tr>\n",
       "    <tr>\n",
       "      <th id=\"T_a34b9_level0_row1\" class=\"row_heading level0 row1\" >1</th>\n",
       "      <td id=\"T_a34b9_row1_col0\" class=\"data row1 col0\" >LGBMRegressor</td>\n",
       "      <td id=\"T_a34b9_row1_col1\" class=\"data row1 col1\" >0.838800</td>\n",
       "      <td id=\"T_a34b9_row1_col2\" class=\"data row1 col2\" >0.308500</td>\n",
       "      <td id=\"T_a34b9_row1_col3\" class=\"data row1 col3\" >0.213300</td>\n",
       "      <td id=\"T_a34b9_row1_col4\" class=\"data row1 col4\" >0.461800</td>\n",
       "    </tr>\n",
       "    <tr>\n",
       "      <th id=\"T_a34b9_level0_row2\" class=\"row_heading level0 row2\" >2</th>\n",
       "      <td id=\"T_a34b9_row2_col0\" class=\"data row2 col0\" >XGBRegressor</td>\n",
       "      <td id=\"T_a34b9_row2_col1\" class=\"data row2 col1\" >0.836700</td>\n",
       "      <td id=\"T_a34b9_row2_col2\" class=\"data row2 col2\" >0.305400</td>\n",
       "      <td id=\"T_a34b9_row2_col3\" class=\"data row2 col3\" >0.216100</td>\n",
       "      <td id=\"T_a34b9_row2_col4\" class=\"data row2 col4\" >0.464900</td>\n",
       "    </tr>\n",
       "    <tr>\n",
       "      <th id=\"T_a34b9_level0_row3\" class=\"row_heading level0 row3\" >3</th>\n",
       "      <td id=\"T_a34b9_row3_col0\" class=\"data row3 col0\" >RandomForestRegressor</td>\n",
       "      <td id=\"T_a34b9_row3_col1\" class=\"data row3 col1\" >0.808500</td>\n",
       "      <td id=\"T_a34b9_row3_col2\" class=\"data row3 col2\" >0.329200</td>\n",
       "      <td id=\"T_a34b9_row3_col3\" class=\"data row3 col3\" >0.253500</td>\n",
       "      <td id=\"T_a34b9_row3_col4\" class=\"data row3 col4\" >0.503500</td>\n",
       "    </tr>\n",
       "    <tr>\n",
       "      <th id=\"T_a34b9_level0_row4\" class=\"row_heading level0 row4\" >4</th>\n",
       "      <td id=\"T_a34b9_row4_col0\" class=\"data row4 col0\" >DecisionTreeRegressor</td>\n",
       "      <td id=\"T_a34b9_row4_col1\" class=\"data row4 col1\" >0.595800</td>\n",
       "      <td id=\"T_a34b9_row4_col2\" class=\"data row4 col2\" >0.468600</td>\n",
       "      <td id=\"T_a34b9_row4_col3\" class=\"data row4 col3\" >0.534900</td>\n",
       "      <td id=\"T_a34b9_row4_col4\" class=\"data row4 col4\" >0.731400</td>\n",
       "    </tr>\n",
       "    <tr>\n",
       "      <th id=\"T_a34b9_level0_row5\" class=\"row_heading level0 row5\" >5</th>\n",
       "      <td id=\"T_a34b9_row5_col0\" class=\"data row5 col0\" >LinearRegression</td>\n",
       "      <td id=\"T_a34b9_row5_col1\" class=\"data row5 col1\" >0.591100</td>\n",
       "      <td id=\"T_a34b9_row5_col2\" class=\"data row5 col2\" >0.529700</td>\n",
       "      <td id=\"T_a34b9_row5_col3\" class=\"data row5 col3\" >0.541100</td>\n",
       "      <td id=\"T_a34b9_row5_col4\" class=\"data row5 col4\" >0.735600</td>\n",
       "    </tr>\n",
       "  </tbody>\n",
       "</table>\n"
      ],
      "text/plain": [
       "<pandas.io.formats.style.Styler at 0x14ca7a110>"
      ]
     },
     "metadata": {},
     "output_type": "display_data"
    }
   ],
   "source": [
    "\"\"\"\n",
    "* experiment_size: default is quick, quick (uses almost half amount of the available ml models), wide (Uses all available ml models)\n",
    "* test_size: default is 0.25\n",
    "* eval_metric: default is \"r2\", other options are \"mae\", \"mse\", \"rmse\"\n",
    "\"\"\"\n",
    "reg_exp = Regression(data=df, target_col=\"MedHouseVal\", experiment_size=\"quick\", test_size=0.25)\n",
    "reg_exp.start_experiment(eval_metric=\"rmse\")"
   ]
  },
  {
   "cell_type": "code",
   "execution_count": 6,
   "metadata": {},
   "outputs": [
    {
     "data": {
      "text/html": [
       "<style type=\"text/css\">\n",
       "#T_d060b_row0_col1, #T_d060b_row0_col2, #T_d060b_row0_col3, #T_d060b_row0_col4 {\n",
       "  background-color: green;\n",
       "}\n",
       "</style>\n",
       "<table id=\"T_d060b\">\n",
       "  <thead>\n",
       "    <tr>\n",
       "      <th class=\"blank level0\" >&nbsp;</th>\n",
       "      <th id=\"T_d060b_level0_col0\" class=\"col_heading level0 col0\" >model_name</th>\n",
       "      <th id=\"T_d060b_level0_col1\" class=\"col_heading level0 col1\" >r2</th>\n",
       "      <th id=\"T_d060b_level0_col2\" class=\"col_heading level0 col2\" >mae</th>\n",
       "      <th id=\"T_d060b_level0_col3\" class=\"col_heading level0 col3\" >mse</th>\n",
       "      <th id=\"T_d060b_level0_col4\" class=\"col_heading level0 col4\" >rmse</th>\n",
       "    </tr>\n",
       "  </thead>\n",
       "  <tbody>\n",
       "    <tr>\n",
       "      <th id=\"T_d060b_level0_row0\" class=\"row_heading level0 row0\" >0</th>\n",
       "      <td id=\"T_d060b_row0_col0\" class=\"data row0 col0\" >CatBoostRegressor</td>\n",
       "      <td id=\"T_d060b_row0_col1\" class=\"data row0 col1\" >0.849800</td>\n",
       "      <td id=\"T_d060b_row0_col2\" class=\"data row0 col2\" >0.292900</td>\n",
       "      <td id=\"T_d060b_row0_col3\" class=\"data row0 col3\" >0.198800</td>\n",
       "      <td id=\"T_d060b_row0_col4\" class=\"data row0 col4\" >0.445900</td>\n",
       "    </tr>\n",
       "    <tr>\n",
       "      <th id=\"T_d060b_level0_row1\" class=\"row_heading level0 row1\" >1</th>\n",
       "      <td id=\"T_d060b_row1_col0\" class=\"data row1 col0\" >LGBMRegressor</td>\n",
       "      <td id=\"T_d060b_row1_col1\" class=\"data row1 col1\" >0.838800</td>\n",
       "      <td id=\"T_d060b_row1_col2\" class=\"data row1 col2\" >0.308500</td>\n",
       "      <td id=\"T_d060b_row1_col3\" class=\"data row1 col3\" >0.213300</td>\n",
       "      <td id=\"T_d060b_row1_col4\" class=\"data row1 col4\" >0.461800</td>\n",
       "    </tr>\n",
       "    <tr>\n",
       "      <th id=\"T_d060b_level0_row2\" class=\"row_heading level0 row2\" >2</th>\n",
       "      <td id=\"T_d060b_row2_col0\" class=\"data row2 col0\" >XGBRegressor</td>\n",
       "      <td id=\"T_d060b_row2_col1\" class=\"data row2 col1\" >0.836700</td>\n",
       "      <td id=\"T_d060b_row2_col2\" class=\"data row2 col2\" >0.305400</td>\n",
       "      <td id=\"T_d060b_row2_col3\" class=\"data row2 col3\" >0.216100</td>\n",
       "      <td id=\"T_d060b_row2_col4\" class=\"data row2 col4\" >0.464900</td>\n",
       "    </tr>\n",
       "    <tr>\n",
       "      <th id=\"T_d060b_level0_row3\" class=\"row_heading level0 row3\" >3</th>\n",
       "      <td id=\"T_d060b_row3_col0\" class=\"data row3 col0\" >RandomForestRegressor</td>\n",
       "      <td id=\"T_d060b_row3_col1\" class=\"data row3 col1\" >0.808500</td>\n",
       "      <td id=\"T_d060b_row3_col2\" class=\"data row3 col2\" >0.329200</td>\n",
       "      <td id=\"T_d060b_row3_col3\" class=\"data row3 col3\" >0.253500</td>\n",
       "      <td id=\"T_d060b_row3_col4\" class=\"data row3 col4\" >0.503500</td>\n",
       "    </tr>\n",
       "    <tr>\n",
       "      <th id=\"T_d060b_level0_row4\" class=\"row_heading level0 row4\" >4</th>\n",
       "      <td id=\"T_d060b_row4_col0\" class=\"data row4 col0\" >DecisionTreeRegressor</td>\n",
       "      <td id=\"T_d060b_row4_col1\" class=\"data row4 col1\" >0.595800</td>\n",
       "      <td id=\"T_d060b_row4_col2\" class=\"data row4 col2\" >0.468600</td>\n",
       "      <td id=\"T_d060b_row4_col3\" class=\"data row4 col3\" >0.534900</td>\n",
       "      <td id=\"T_d060b_row4_col4\" class=\"data row4 col4\" >0.731400</td>\n",
       "    </tr>\n",
       "    <tr>\n",
       "      <th id=\"T_d060b_level0_row5\" class=\"row_heading level0 row5\" >5</th>\n",
       "      <td id=\"T_d060b_row5_col0\" class=\"data row5 col0\" >LinearRegression</td>\n",
       "      <td id=\"T_d060b_row5_col1\" class=\"data row5 col1\" >0.591100</td>\n",
       "      <td id=\"T_d060b_row5_col2\" class=\"data row5 col2\" >0.529700</td>\n",
       "      <td id=\"T_d060b_row5_col3\" class=\"data row5 col3\" >0.541100</td>\n",
       "      <td id=\"T_d060b_row5_col4\" class=\"data row5 col4\" >0.735600</td>\n",
       "    </tr>\n",
       "  </tbody>\n",
       "</table>\n"
      ],
      "text/plain": [
       "<pandas.io.formats.style.Styler at 0x14cc36b90>"
      ]
     },
     "metadata": {},
     "output_type": "display_data"
    }
   ],
   "source": [
    "# You can also display the model stats after the experiment is done with a desired evaluation metric, default is \"r2\"\n",
    "reg_exp.show_model_stats(eval_metric=\"r2\")"
   ]
  },
  {
   "cell_type": "code",
   "execution_count": 7,
   "metadata": {},
   "outputs": [],
   "source": [
    "\"\"\"\n",
    "* You can get the best model(s) by calling get_best_models() method\n",
    "    - top_n_models: default is 1, If you want to get only one model, you will get a model object, else\n",
    "    - you will get a list of model objects\n",
    "* By default, get_best_models() function returns the best model(s) based on the evaluation metric used in the start_experiment()\n",
    "* But you can reorder the models by passing eval_metric parameter to get_best_models()\n",
    "\"\"\"\n",
    "best_model = reg_exp.get_best_models(top_n_models=1)\n",
    "\n",
    "# Optionally, you can get the any model object by \"model_name\" value in the show_model_stats() output\n",
    "example_model = reg_exp.get_model_by_name(\"RandomForestRegressor\")"
   ]
  },
  {
   "cell_type": "code",
   "execution_count": 8,
   "metadata": {},
   "outputs": [
    {
     "name": "stdout",
     "output_type": "stream",
     "text": [
      "<catboost.core.CatBoostRegressor object at 0x13fcf4ed0>\n"
     ]
    }
   ],
   "source": [
    "print(best_model)"
   ]
  },
  {
   "cell_type": "code",
   "execution_count": 9,
   "metadata": {},
   "outputs": [
    {
     "data": {
      "image/png": "[encoded data removed]",
      "text/plain": [
       "<Figure size 1000x600 with 1 Axes>"
      ]
     },
     "metadata": {},
     "output_type": "display_data"
    }
   ],
   "source": [
    "# Plot the feature importance of a model by passing the model object\n",
    "# Default is the best model found in the experiment\n",
    "reg_exp.plot_feature_importance()"
   ]
  },
  {
   "cell_type": "code",
   "execution_count": 10,
   "metadata": {},
   "outputs": [
    {
     "name": "stderr",
     "output_type": "stream",
     "text": [
      "INFO | 2024-09-01 20:03:24 | [PROCESS] Model Tuning process is started\n"
     ]
    },
    {
     "name": "stdout",
     "output_type": "stream",
     "text": [
      "Fitting 3 folds for each of 4 candidates, totalling 12 fits\n"
     ]
    },
    {
     "data": {
      "text/html": [
       "<style type=\"text/css\">\n",
       "#T_b657f_row0_col1, #T_b657f_row0_col2, #T_b657f_row0_col3, #T_b657f_row0_col4 {\n",
       "  background-color: green;\n",
       "}\n",
       "</style>\n",
       "<table id=\"T_b657f\">\n",
       "  <thead>\n",
       "    <tr>\n",
       "      <th class=\"blank level0\" >&nbsp;</th>\n",
       "      <th id=\"T_b657f_level0_col0\" class=\"col_heading level0 col0\" >model_name</th>\n",
       "      <th id=\"T_b657f_level0_col1\" class=\"col_heading level0 col1\" >r2</th>\n",
       "      <th id=\"T_b657f_level0_col2\" class=\"col_heading level0 col2\" >mae</th>\n",
       "      <th id=\"T_b657f_level0_col3\" class=\"col_heading level0 col3\" >mse</th>\n",
       "      <th id=\"T_b657f_level0_col4\" class=\"col_heading level0 col4\" >rmse</th>\n",
       "    </tr>\n",
       "  </thead>\n",
       "  <tbody>\n",
       "    <tr>\n",
       "      <th id=\"T_b657f_level0_row0\" class=\"row_heading level0 row0\" >0</th>\n",
       "      <td id=\"T_b657f_row0_col0\" class=\"data row0 col0\" >CatBoostRegressor_(randomized_search(quick))_(cv=3)_(n_iter=4)</td>\n",
       "      <td id=\"T_b657f_row0_col1\" class=\"data row0 col1\" >0.852800</td>\n",
       "      <td id=\"T_b657f_row0_col2\" class=\"data row0 col2\" >0.289700</td>\n",
       "      <td id=\"T_b657f_row0_col3\" class=\"data row0 col3\" >0.194700</td>\n",
       "      <td id=\"T_b657f_row0_col4\" class=\"data row0 col4\" >0.441200</td>\n",
       "    </tr>\n",
       "    <tr>\n",
       "      <th id=\"T_b657f_level0_row1\" class=\"row_heading level0 row1\" >1</th>\n",
       "      <td id=\"T_b657f_row1_col0\" class=\"data row1 col0\" >CatBoostRegressor</td>\n",
       "      <td id=\"T_b657f_row1_col1\" class=\"data row1 col1\" >0.849800</td>\n",
       "      <td id=\"T_b657f_row1_col2\" class=\"data row1 col2\" >0.292900</td>\n",
       "      <td id=\"T_b657f_row1_col3\" class=\"data row1 col3\" >0.198800</td>\n",
       "      <td id=\"T_b657f_row1_col4\" class=\"data row1 col4\" >0.445900</td>\n",
       "    </tr>\n",
       "    <tr>\n",
       "      <th id=\"T_b657f_level0_row2\" class=\"row_heading level0 row2\" >2</th>\n",
       "      <td id=\"T_b657f_row2_col0\" class=\"data row2 col0\" >LGBMRegressor</td>\n",
       "      <td id=\"T_b657f_row2_col1\" class=\"data row2 col1\" >0.838800</td>\n",
       "      <td id=\"T_b657f_row2_col2\" class=\"data row2 col2\" >0.308500</td>\n",
       "      <td id=\"T_b657f_row2_col3\" class=\"data row2 col3\" >0.213300</td>\n",
       "      <td id=\"T_b657f_row2_col4\" class=\"data row2 col4\" >0.461800</td>\n",
       "    </tr>\n",
       "    <tr>\n",
       "      <th id=\"T_b657f_level0_row3\" class=\"row_heading level0 row3\" >3</th>\n",
       "      <td id=\"T_b657f_row3_col0\" class=\"data row3 col0\" >XGBRegressor</td>\n",
       "      <td id=\"T_b657f_row3_col1\" class=\"data row3 col1\" >0.836700</td>\n",
       "      <td id=\"T_b657f_row3_col2\" class=\"data row3 col2\" >0.305400</td>\n",
       "      <td id=\"T_b657f_row3_col3\" class=\"data row3 col3\" >0.216100</td>\n",
       "      <td id=\"T_b657f_row3_col4\" class=\"data row3 col4\" >0.464900</td>\n",
       "    </tr>\n",
       "    <tr>\n",
       "      <th id=\"T_b657f_level0_row4\" class=\"row_heading level0 row4\" >4</th>\n",
       "      <td id=\"T_b657f_row4_col0\" class=\"data row4 col0\" >RandomForestRegressor</td>\n",
       "      <td id=\"T_b657f_row4_col1\" class=\"data row4 col1\" >0.808500</td>\n",
       "      <td id=\"T_b657f_row4_col2\" class=\"data row4 col2\" >0.329200</td>\n",
       "      <td id=\"T_b657f_row4_col3\" class=\"data row4 col3\" >0.253500</td>\n",
       "      <td id=\"T_b657f_row4_col4\" class=\"data row4 col4\" >0.503500</td>\n",
       "    </tr>\n",
       "    <tr>\n",
       "      <th id=\"T_b657f_level0_row5\" class=\"row_heading level0 row5\" >5</th>\n",
       "      <td id=\"T_b657f_row5_col0\" class=\"data row5 col0\" >DecisionTreeRegressor</td>\n",
       "      <td id=\"T_b657f_row5_col1\" class=\"data row5 col1\" >0.595800</td>\n",
       "      <td id=\"T_b657f_row5_col2\" class=\"data row5 col2\" >0.468600</td>\n",
       "      <td id=\"T_b657f_row5_col3\" class=\"data row5 col3\" >0.534900</td>\n",
       "      <td id=\"T_b657f_row5_col4\" class=\"data row5 col4\" >0.731400</td>\n",
       "    </tr>\n",
       "    <tr>\n",
       "      <th id=\"T_b657f_level0_row6\" class=\"row_heading level0 row6\" >6</th>\n",
       "      <td id=\"T_b657f_row6_col0\" class=\"data row6 col0\" >LinearRegression</td>\n",
       "      <td id=\"T_b657f_row6_col1\" class=\"data row6 col1\" >0.591100</td>\n",
       "      <td id=\"T_b657f_row6_col2\" class=\"data row6 col2\" >0.529700</td>\n",
       "      <td id=\"T_b657f_row6_col3\" class=\"data row6 col3\" >0.541100</td>\n",
       "      <td id=\"T_b657f_row6_col4\" class=\"data row6 col4\" >0.735600</td>\n",
       "    </tr>\n",
       "  </tbody>\n",
       "</table>\n"
      ],
      "text/plain": [
       "<pandas.io.formats.style.Styler at 0x14aa57450>"
      ]
     },
     "metadata": {},
     "output_type": "display_data"
    },
    {
     "name": "stderr",
     "output_type": "stream",
     "text": [
      "INFO | 2024-09-01 20:03:31 | [PROCESS] Model Tuning process is finished\n"
     ]
    }
   ],
   "source": [
    "\"\"\"\n",
    "* model: model object that you want to tune\n",
    "* tuning_method: default is randomized_search, also grid_search, randomized_search or optuna can be used\n",
    "* n_trials: default is 10\n",
    "* cv: default is 3 and It can be minimum 2\n",
    "\"\"\"\n",
    "\n",
    "reg_exp.tune_model(model=best_model, tuning_method=\"randomized_search\", tuning_size=\"quick\", n_iter=4, cv=3)"
   ]
  },
  {
   "cell_type": "code",
   "execution_count": 11,
   "metadata": {},
   "outputs": [],
   "source": [
    "# Access to the tuned model\n",
    "\n",
    "## Option 1: Get the last tuned model object\n",
    "tuned_model_option_1 = reg_exp.tuned_model\n",
    "\n",
    "## Option 2: Get it by model name\n",
    "tuned_model_option_2 = reg_exp.get_model_by_name(\"CatBoostRegressor_(randomized_search(quick))_(cv=3)_(n_iter=4)\")"
   ]
  },
  {
   "cell_type": "code",
   "execution_count": 12,
   "metadata": {},
   "outputs": [
    {
     "data": {
      "text/plain": [
       "<catboost.core.CatBoostRegressor at 0x14ce3ae10>"
      ]
     },
     "execution_count": 12,
     "metadata": {},
     "output_type": "execute_result"
    }
   ],
   "source": [
    "tuned_model_option_2"
   ]
  },
  {
   "cell_type": "code",
   "execution_count": null,
   "metadata": {},
   "outputs": [],
   "source": [
    "# Save the model\n",
    "\n",
    "## Option 1: Save the best model\n",
    "reg_exp.save_model()\n",
    "\n",
    "## Option 2: Save the selected model\n",
    "reg_exp.save_model(tuned_model_option_1)"
   ]
  }
 ],
 "metadata": {
  "kernelspec": {
   "display_name": "Python 3",
   "language": "python",
   "name": "python3"
  },
  "language_info": {
   "codemirror_mode": {
    "name": "ipython",
    "version": 3
   },
   "file_extension": ".py",
   "mimetype": "text/x-python",
   "name": "python",
   "nbconvert_exporter": "python",
   "pygments_lexer": "ipython3",
   "version": "3.11.9"
  }
 },
 "nbformat": 4,
 "nbformat_minor": 2
}
