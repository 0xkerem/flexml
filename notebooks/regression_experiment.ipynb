{
 "cells": [
  {
   "cell_type": "code",
   "execution_count": 1,
   "metadata": {},
   "outputs": [],
   "source": [
    "import sys\n",
    "import os\n",
    "import warnings\n",
    "warnings.filterwarnings(\"ignore\")\n",
    "\n",
    "project_root = os.path.abspath(os.path.join(os.getcwd(), '..'))\n",
    "sys.path.append(project_root)\n",
    "\n",
    "from flexml.regression import Regression\n",
    "from sklearn.datasets import load_diabetes"
   ]
  },
  {
   "cell_type": "code",
   "execution_count": 2,
   "metadata": {},
   "outputs": [],
   "source": [
    "df = load_diabetes(as_frame = True)['frame']"
   ]
  },
  {
   "cell_type": "code",
   "execution_count": 3,
   "metadata": {},
   "outputs": [
    {
     "data": {
      "text/html": [
       "<div>\n",
       "<style scoped>\n",
       "    .dataframe tbody tr th:only-of-type {\n",
       "        vertical-align: middle;\n",
       "    }\n",
       "\n",
       "    .dataframe tbody tr th {\n",
       "        vertical-align: top;\n",
       "    }\n",
       "\n",
       "    .dataframe thead th {\n",
       "        text-align: right;\n",
       "    }\n",
       "</style>\n",
       "<table border=\"1\" class=\"dataframe\">\n",
       "  <thead>\n",
       "    <tr style=\"text-align: right;\">\n",
       "      <th></th>\n",
       "      <th>age</th>\n",
       "      <th>sex</th>\n",
       "      <th>bmi</th>\n",
       "      <th>bp</th>\n",
       "      <th>s1</th>\n",
       "      <th>s2</th>\n",
       "      <th>s3</th>\n",
       "      <th>s4</th>\n",
       "      <th>s5</th>\n",
       "      <th>s6</th>\n",
       "      <th>target</th>\n",
       "    </tr>\n",
       "  </thead>\n",
       "  <tbody>\n",
       "    <tr>\n",
       "      <th>0</th>\n",
       "      <td>0.038076</td>\n",
       "      <td>0.050680</td>\n",
       "      <td>0.061696</td>\n",
       "      <td>0.021872</td>\n",
       "      <td>-0.044223</td>\n",
       "      <td>-0.034821</td>\n",
       "      <td>-0.043401</td>\n",
       "      <td>-0.002592</td>\n",
       "      <td>0.019907</td>\n",
       "      <td>-0.017646</td>\n",
       "      <td>151.0</td>\n",
       "    </tr>\n",
       "    <tr>\n",
       "      <th>1</th>\n",
       "      <td>-0.001882</td>\n",
       "      <td>-0.044642</td>\n",
       "      <td>-0.051474</td>\n",
       "      <td>-0.026328</td>\n",
       "      <td>-0.008449</td>\n",
       "      <td>-0.019163</td>\n",
       "      <td>0.074412</td>\n",
       "      <td>-0.039493</td>\n",
       "      <td>-0.068332</td>\n",
       "      <td>-0.092204</td>\n",
       "      <td>75.0</td>\n",
       "    </tr>\n",
       "    <tr>\n",
       "      <th>2</th>\n",
       "      <td>0.085299</td>\n",
       "      <td>0.050680</td>\n",
       "      <td>0.044451</td>\n",
       "      <td>-0.005670</td>\n",
       "      <td>-0.045599</td>\n",
       "      <td>-0.034194</td>\n",
       "      <td>-0.032356</td>\n",
       "      <td>-0.002592</td>\n",
       "      <td>0.002861</td>\n",
       "      <td>-0.025930</td>\n",
       "      <td>141.0</td>\n",
       "    </tr>\n",
       "    <tr>\n",
       "      <th>3</th>\n",
       "      <td>-0.089063</td>\n",
       "      <td>-0.044642</td>\n",
       "      <td>-0.011595</td>\n",
       "      <td>-0.036656</td>\n",
       "      <td>0.012191</td>\n",
       "      <td>0.024991</td>\n",
       "      <td>-0.036038</td>\n",
       "      <td>0.034309</td>\n",
       "      <td>0.022688</td>\n",
       "      <td>-0.009362</td>\n",
       "      <td>206.0</td>\n",
       "    </tr>\n",
       "    <tr>\n",
       "      <th>4</th>\n",
       "      <td>0.005383</td>\n",
       "      <td>-0.044642</td>\n",
       "      <td>-0.036385</td>\n",
       "      <td>0.021872</td>\n",
       "      <td>0.003935</td>\n",
       "      <td>0.015596</td>\n",
       "      <td>0.008142</td>\n",
       "      <td>-0.002592</td>\n",
       "      <td>-0.031988</td>\n",
       "      <td>-0.046641</td>\n",
       "      <td>135.0</td>\n",
       "    </tr>\n",
       "  </tbody>\n",
       "</table>\n",
       "</div>"
      ],
      "text/plain": [
       "        age       sex       bmi        bp        s1        s2        s3  \\\n",
       "0  0.038076  0.050680  0.061696  0.021872 -0.044223 -0.034821 -0.043401   \n",
       "1 -0.001882 -0.044642 -0.051474 -0.026328 -0.008449 -0.019163  0.074412   \n",
       "2  0.085299  0.050680  0.044451 -0.005670 -0.045599 -0.034194 -0.032356   \n",
       "3 -0.089063 -0.044642 -0.011595 -0.036656  0.012191  0.024991 -0.036038   \n",
       "4  0.005383 -0.044642 -0.036385  0.021872  0.003935  0.015596  0.008142   \n",
       "\n",
       "         s4        s5        s6  target  \n",
       "0 -0.002592  0.019907 -0.017646   151.0  \n",
       "1 -0.039493 -0.068332 -0.092204    75.0  \n",
       "2 -0.002592  0.002861 -0.025930   141.0  \n",
       "3  0.034309  0.022688 -0.009362   206.0  \n",
       "4 -0.002592 -0.031988 -0.046641   135.0  "
      ]
     },
     "execution_count": 3,
     "metadata": {},
     "output_type": "execute_result"
    }
   ],
   "source": [
    "df.head()"
   ]
  },
  {
   "cell_type": "code",
   "execution_count": 4,
   "metadata": {},
   "outputs": [
    {
     "name": "stdout",
     "output_type": "stream",
     "text": [
      "<class 'pandas.core.frame.DataFrame'>\n",
      "RangeIndex: 442 entries, 0 to 441\n",
      "Data columns (total 11 columns):\n",
      " #   Column  Non-Null Count  Dtype  \n",
      "---  ------  --------------  -----  \n",
      " 0   age     442 non-null    float64\n",
      " 1   sex     442 non-null    float64\n",
      " 2   bmi     442 non-null    float64\n",
      " 3   bp      442 non-null    float64\n",
      " 4   s1      442 non-null    float64\n",
      " 5   s2      442 non-null    float64\n",
      " 6   s3      442 non-null    float64\n",
      " 7   s4      442 non-null    float64\n",
      " 8   s5      442 non-null    float64\n",
      " 9   s6      442 non-null    float64\n",
      " 10  target  442 non-null    float64\n",
      "dtypes: float64(11)\n",
      "memory usage: 38.1 KB\n"
     ]
    }
   ],
   "source": [
    "df.info()"
   ]
  },
  {
   "cell_type": "code",
   "execution_count": 5,
   "metadata": {},
   "outputs": [
    {
     "name": "stderr",
     "output_type": "stream",
     "text": [
      "INFO | 2024-08-16 00:25:19 | [PROCESS] Training the ML models\n",
      "100%|██████████| 6/6 [00:00<00:00,  7.36it/s]\n",
      "INFO | 2024-08-16 00:25:20 | [PROCESS] Model training is finished!\n"
     ]
    },
    {
     "data": {
      "text/html": [
       "<style type=\"text/css\">\n",
       "#T_7d8e8_row0_col1, #T_7d8e8_row0_col2, #T_7d8e8_row0_col3, #T_7d8e8_row0_col4 {\n",
       "  background-color: green;\n",
       "}\n",
       "</style>\n",
       "<table id=\"T_7d8e8\">\n",
       "  <thead>\n",
       "    <tr>\n",
       "      <th class=\"blank level0\" >&nbsp;</th>\n",
       "      <th id=\"T_7d8e8_level0_col0\" class=\"col_heading level0 col0\" >model_name</th>\n",
       "      <th id=\"T_7d8e8_level0_col1\" class=\"col_heading level0 col1\" >r2</th>\n",
       "      <th id=\"T_7d8e8_level0_col2\" class=\"col_heading level0 col2\" >mae</th>\n",
       "      <th id=\"T_7d8e8_level0_col3\" class=\"col_heading level0 col3\" >mse</th>\n",
       "      <th id=\"T_7d8e8_level0_col4\" class=\"col_heading level0 col4\" >rmse</th>\n",
       "    </tr>\n",
       "  </thead>\n",
       "  <tbody>\n",
       "    <tr>\n",
       "      <th id=\"T_7d8e8_level0_row0\" class=\"row_heading level0 row0\" >0</th>\n",
       "      <td id=\"T_7d8e8_row0_col0\" class=\"data row0 col0\" >LinearRegression</td>\n",
       "      <td id=\"T_7d8e8_row0_col1\" class=\"data row0 col1\" >0.484900</td>\n",
       "      <td id=\"T_7d8e8_row0_col2\" class=\"data row0 col2\" >41.548500</td>\n",
       "      <td id=\"T_7d8e8_row0_col3\" class=\"data row0 col3\" >2848.310700</td>\n",
       "      <td id=\"T_7d8e8_row0_col4\" class=\"data row0 col4\" >53.369600</td>\n",
       "    </tr>\n",
       "    <tr>\n",
       "      <th id=\"T_7d8e8_level0_row1\" class=\"row_heading level0 row1\" >1</th>\n",
       "      <td id=\"T_7d8e8_row1_col0\" class=\"data row1 col0\" >RandomForestRegressor</td>\n",
       "      <td id=\"T_7d8e8_row1_col1\" class=\"data row1 col1\" >0.474600</td>\n",
       "      <td id=\"T_7d8e8_row1_col2\" class=\"data row1 col2\" >42.923600</td>\n",
       "      <td id=\"T_7d8e8_row1_col3\" class=\"data row1 col3\" >2905.430800</td>\n",
       "      <td id=\"T_7d8e8_row1_col4\" class=\"data row1 col4\" >53.902000</td>\n",
       "    </tr>\n",
       "    <tr>\n",
       "      <th id=\"T_7d8e8_level0_row2\" class=\"row_heading level0 row2\" >2</th>\n",
       "      <td id=\"T_7d8e8_row2_col0\" class=\"data row2 col0\" >CatBoostRegressor</td>\n",
       "      <td id=\"T_7d8e8_row2_col1\" class=\"data row2 col1\" >0.457800</td>\n",
       "      <td id=\"T_7d8e8_row2_col2\" class=\"data row2 col2\" >42.523300</td>\n",
       "      <td id=\"T_7d8e8_row2_col3\" class=\"data row2 col3\" >2998.203300</td>\n",
       "      <td id=\"T_7d8e8_row2_col4\" class=\"data row2 col4\" >54.755900</td>\n",
       "    </tr>\n",
       "    <tr>\n",
       "      <th id=\"T_7d8e8_level0_row3\" class=\"row_heading level0 row3\" >3</th>\n",
       "      <td id=\"T_7d8e8_row3_col0\" class=\"data row3 col0\" >LGBMRegressor</td>\n",
       "      <td id=\"T_7d8e8_row3_col1\" class=\"data row3 col1\" >0.401900</td>\n",
       "      <td id=\"T_7d8e8_row3_col2\" class=\"data row3 col2\" >44.063200</td>\n",
       "      <td id=\"T_7d8e8_row3_col3\" class=\"data row3 col3\" >3307.346000</td>\n",
       "      <td id=\"T_7d8e8_row3_col4\" class=\"data row3 col4\" >57.509500</td>\n",
       "    </tr>\n",
       "    <tr>\n",
       "      <th id=\"T_7d8e8_level0_row4\" class=\"row_heading level0 row4\" >4</th>\n",
       "      <td id=\"T_7d8e8_row4_col0\" class=\"data row4 col0\" >XGBRegressor</td>\n",
       "      <td id=\"T_7d8e8_row4_col1\" class=\"data row4 col1\" >0.391400</td>\n",
       "      <td id=\"T_7d8e8_row4_col2\" class=\"data row4 col2\" >46.585700</td>\n",
       "      <td id=\"T_7d8e8_row4_col3\" class=\"data row4 col3\" >3365.329800</td>\n",
       "      <td id=\"T_7d8e8_row4_col4\" class=\"data row4 col4\" >58.011500</td>\n",
       "    </tr>\n",
       "    <tr>\n",
       "      <th id=\"T_7d8e8_level0_row5\" class=\"row_heading level0 row5\" >5</th>\n",
       "      <td id=\"T_7d8e8_row5_col0\" class=\"data row5 col0\" >DecisionTreeRegressor</td>\n",
       "      <td id=\"T_7d8e8_row5_col1\" class=\"data row5 col1\" >-0.146500</td>\n",
       "      <td id=\"T_7d8e8_row5_col2\" class=\"data row5 col2\" >59.991000</td>\n",
       "      <td id=\"T_7d8e8_row5_col3\" class=\"data row5 col3\" >6339.630600</td>\n",
       "      <td id=\"T_7d8e8_row5_col4\" class=\"data row5 col4\" >79.621800</td>\n",
       "    </tr>\n",
       "  </tbody>\n",
       "</table>\n"
      ],
      "text/plain": [
       "<pandas.io.formats.style.Styler at 0x104c03990>"
      ]
     },
     "metadata": {},
     "output_type": "display_data"
    }
   ],
   "source": [
    "reg_exp = Regression(df, target_col = \"target\")\n",
    "reg_exp.start_experiment()"
   ]
  },
  {
   "cell_type": "code",
   "execution_count": 6,
   "metadata": {},
   "outputs": [
    {
     "data": {
      "text/html": [
       "<style type=\"text/css\">\n",
       "#T_14054_row0_col1, #T_14054_row0_col2, #T_14054_row0_col3, #T_14054_row0_col4 {\n",
       "  background-color: green;\n",
       "}\n",
       "</style>\n",
       "<table id=\"T_14054\">\n",
       "  <thead>\n",
       "    <tr>\n",
       "      <th class=\"blank level0\" >&nbsp;</th>\n",
       "      <th id=\"T_14054_level0_col0\" class=\"col_heading level0 col0\" >model_name</th>\n",
       "      <th id=\"T_14054_level0_col1\" class=\"col_heading level0 col1\" >r2</th>\n",
       "      <th id=\"T_14054_level0_col2\" class=\"col_heading level0 col2\" >mae</th>\n",
       "      <th id=\"T_14054_level0_col3\" class=\"col_heading level0 col3\" >mse</th>\n",
       "      <th id=\"T_14054_level0_col4\" class=\"col_heading level0 col4\" >rmse</th>\n",
       "    </tr>\n",
       "  </thead>\n",
       "  <tbody>\n",
       "    <tr>\n",
       "      <th id=\"T_14054_level0_row0\" class=\"row_heading level0 row0\" >0</th>\n",
       "      <td id=\"T_14054_row0_col0\" class=\"data row0 col0\" >LinearRegression</td>\n",
       "      <td id=\"T_14054_row0_col1\" class=\"data row0 col1\" >0.484900</td>\n",
       "      <td id=\"T_14054_row0_col2\" class=\"data row0 col2\" >41.548500</td>\n",
       "      <td id=\"T_14054_row0_col3\" class=\"data row0 col3\" >2848.310700</td>\n",
       "      <td id=\"T_14054_row0_col4\" class=\"data row0 col4\" >53.369600</td>\n",
       "    </tr>\n",
       "    <tr>\n",
       "      <th id=\"T_14054_level0_row1\" class=\"row_heading level0 row1\" >1</th>\n",
       "      <td id=\"T_14054_row1_col0\" class=\"data row1 col0\" >RandomForestRegressor</td>\n",
       "      <td id=\"T_14054_row1_col1\" class=\"data row1 col1\" >0.474600</td>\n",
       "      <td id=\"T_14054_row1_col2\" class=\"data row1 col2\" >42.923600</td>\n",
       "      <td id=\"T_14054_row1_col3\" class=\"data row1 col3\" >2905.430800</td>\n",
       "      <td id=\"T_14054_row1_col4\" class=\"data row1 col4\" >53.902000</td>\n",
       "    </tr>\n",
       "    <tr>\n",
       "      <th id=\"T_14054_level0_row2\" class=\"row_heading level0 row2\" >2</th>\n",
       "      <td id=\"T_14054_row2_col0\" class=\"data row2 col0\" >CatBoostRegressor</td>\n",
       "      <td id=\"T_14054_row2_col1\" class=\"data row2 col1\" >0.457800</td>\n",
       "      <td id=\"T_14054_row2_col2\" class=\"data row2 col2\" >42.523300</td>\n",
       "      <td id=\"T_14054_row2_col3\" class=\"data row2 col3\" >2998.203300</td>\n",
       "      <td id=\"T_14054_row2_col4\" class=\"data row2 col4\" >54.755900</td>\n",
       "    </tr>\n",
       "    <tr>\n",
       "      <th id=\"T_14054_level0_row3\" class=\"row_heading level0 row3\" >3</th>\n",
       "      <td id=\"T_14054_row3_col0\" class=\"data row3 col0\" >LGBMRegressor</td>\n",
       "      <td id=\"T_14054_row3_col1\" class=\"data row3 col1\" >0.401900</td>\n",
       "      <td id=\"T_14054_row3_col2\" class=\"data row3 col2\" >44.063200</td>\n",
       "      <td id=\"T_14054_row3_col3\" class=\"data row3 col3\" >3307.346000</td>\n",
       "      <td id=\"T_14054_row3_col4\" class=\"data row3 col4\" >57.509500</td>\n",
       "    </tr>\n",
       "    <tr>\n",
       "      <th id=\"T_14054_level0_row4\" class=\"row_heading level0 row4\" >4</th>\n",
       "      <td id=\"T_14054_row4_col0\" class=\"data row4 col0\" >XGBRegressor</td>\n",
       "      <td id=\"T_14054_row4_col1\" class=\"data row4 col1\" >0.391400</td>\n",
       "      <td id=\"T_14054_row4_col2\" class=\"data row4 col2\" >46.585700</td>\n",
       "      <td id=\"T_14054_row4_col3\" class=\"data row4 col3\" >3365.329800</td>\n",
       "      <td id=\"T_14054_row4_col4\" class=\"data row4 col4\" >58.011500</td>\n",
       "    </tr>\n",
       "    <tr>\n",
       "      <th id=\"T_14054_level0_row5\" class=\"row_heading level0 row5\" >5</th>\n",
       "      <td id=\"T_14054_row5_col0\" class=\"data row5 col0\" >DecisionTreeRegressor</td>\n",
       "      <td id=\"T_14054_row5_col1\" class=\"data row5 col1\" >-0.146500</td>\n",
       "      <td id=\"T_14054_row5_col2\" class=\"data row5 col2\" >59.991000</td>\n",
       "      <td id=\"T_14054_row5_col3\" class=\"data row5 col3\" >6339.630600</td>\n",
       "      <td id=\"T_14054_row5_col4\" class=\"data row5 col4\" >79.621800</td>\n",
       "    </tr>\n",
       "  </tbody>\n",
       "</table>\n"
      ],
      "text/plain": [
       "<pandas.io.formats.style.Styler at 0x137983990>"
      ]
     },
     "metadata": {},
     "output_type": "display_data"
    }
   ],
   "source": [
    "reg_exp.show_model_stats()"
   ]
  },
  {
   "cell_type": "code",
   "execution_count": 7,
   "metadata": {},
   "outputs": [],
   "source": [
    "best_model = reg_exp.get_best_models()"
   ]
  },
  {
   "cell_type": "code",
   "execution_count": 8,
   "metadata": {},
   "outputs": [
    {
     "name": "stdout",
     "output_type": "stream",
     "text": [
      "LinearRegression()\n"
     ]
    }
   ],
   "source": [
    "print(best_model)"
   ]
  },
  {
   "cell_type": "code",
   "execution_count": 9,
   "metadata": {},
   "outputs": [
    {
     "name": "stderr",
     "output_type": "stream",
     "text": [
      "INFO | 2024-08-16 00:25:20 | [PROCESS] Model Tuning process is started\n"
     ]
    },
    {
     "name": "stdout",
     "output_type": "stream",
     "text": [
      "Fitting 2 folds for each of 2 candidates, totalling 4 fits\n"
     ]
    },
    {
     "name": "stderr",
     "output_type": "stream",
     "text": [
      "INFO | 2024-08-16 00:25:22 | [PROCESS] Model Tuning process is finished\n"
     ]
    }
   ],
   "source": [
    "reg_exp.tune_model(best_model, tuning_method=\"randomized_search\", n_trials = 4, cv = 2)"
   ]
  },
  {
   "cell_type": "code",
   "execution_count": 10,
   "metadata": {},
   "outputs": [],
   "source": [
    "tuned_model = reg_exp.tuned_model"
   ]
  },
  {
   "cell_type": "code",
   "execution_count": 11,
   "metadata": {},
   "outputs": [
    {
     "data": {
      "text/plain": [
       "0.5253"
      ]
     },
     "execution_count": 11,
     "metadata": {},
     "output_type": "execute_result"
    }
   ],
   "source": [
    "reg_exp.tuned_model_score"
   ]
  }
 ],
 "metadata": {
  "kernelspec": {
   "display_name": "Python 3",
   "language": "python",
   "name": "python3"
  },
  "language_info": {
   "codemirror_mode": {
    "name": "ipython",
    "version": 3
   },
   "file_extension": ".py",
   "mimetype": "text/x-python",
   "name": "python",
   "nbconvert_exporter": "python",
   "pygments_lexer": "ipython3",
   "version": "3.11.9"
  }
 },
 "nbformat": 4,
 "nbformat_minor": 2
}
