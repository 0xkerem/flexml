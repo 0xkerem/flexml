{
 "cells": [
  {
   "cell_type": "code",
   "execution_count": 1,
   "metadata": {},
   "outputs": [],
   "source": [
    "import sys\n",
    "import os\n",
    "import warnings\n",
    "warnings.filterwarnings(\"ignore\")\n",
    "\n",
    "project_root = os.path.abspath(os.path.join(os.getcwd(), '..'))\n",
    "sys.path.append(project_root)\n",
    "\n",
    "from flexml.classification import Classification\n",
    "from sklearn.datasets import load_breast_cancer"
   ]
  },
  {
   "cell_type": "code",
   "execution_count": 2,
   "metadata": {},
   "outputs": [],
   "source": [
    "df = load_breast_cancer(as_frame=True)['frame']"
   ]
  },
  {
   "cell_type": "code",
   "execution_count": 3,
   "metadata": {},
   "outputs": [
    {
     "data": {
      "text/html": [
       "<div>\n",
       "<style scoped>\n",
       "    .dataframe tbody tr th:only-of-type {\n",
       "        vertical-align: middle;\n",
       "    }\n",
       "\n",
       "    .dataframe tbody tr th {\n",
       "        vertical-align: top;\n",
       "    }\n",
       "\n",
       "    .dataframe thead th {\n",
       "        text-align: right;\n",
       "    }\n",
       "</style>\n",
       "<table border=\"1\" class=\"dataframe\">\n",
       "  <thead>\n",
       "    <tr style=\"text-align: right;\">\n",
       "      <th></th>\n",
       "      <th>mean radius</th>\n",
       "      <th>mean texture</th>\n",
       "      <th>mean perimeter</th>\n",
       "      <th>mean area</th>\n",
       "      <th>mean smoothness</th>\n",
       "      <th>mean compactness</th>\n",
       "      <th>mean concavity</th>\n",
       "      <th>mean concave points</th>\n",
       "      <th>mean symmetry</th>\n",
       "      <th>mean fractal dimension</th>\n",
       "      <th>...</th>\n",
       "      <th>worst texture</th>\n",
       "      <th>worst perimeter</th>\n",
       "      <th>worst area</th>\n",
       "      <th>worst smoothness</th>\n",
       "      <th>worst compactness</th>\n",
       "      <th>worst concavity</th>\n",
       "      <th>worst concave points</th>\n",
       "      <th>worst symmetry</th>\n",
       "      <th>worst fractal dimension</th>\n",
       "      <th>target</th>\n",
       "    </tr>\n",
       "  </thead>\n",
       "  <tbody>\n",
       "    <tr>\n",
       "      <th>0</th>\n",
       "      <td>17.99</td>\n",
       "      <td>10.38</td>\n",
       "      <td>122.80</td>\n",
       "      <td>1001.0</td>\n",
       "      <td>0.11840</td>\n",
       "      <td>0.27760</td>\n",
       "      <td>0.3001</td>\n",
       "      <td>0.14710</td>\n",
       "      <td>0.2419</td>\n",
       "      <td>0.07871</td>\n",
       "      <td>...</td>\n",
       "      <td>17.33</td>\n",
       "      <td>184.60</td>\n",
       "      <td>2019.0</td>\n",
       "      <td>0.1622</td>\n",
       "      <td>0.6656</td>\n",
       "      <td>0.7119</td>\n",
       "      <td>0.2654</td>\n",
       "      <td>0.4601</td>\n",
       "      <td>0.11890</td>\n",
       "      <td>0</td>\n",
       "    </tr>\n",
       "    <tr>\n",
       "      <th>1</th>\n",
       "      <td>20.57</td>\n",
       "      <td>17.77</td>\n",
       "      <td>132.90</td>\n",
       "      <td>1326.0</td>\n",
       "      <td>0.08474</td>\n",
       "      <td>0.07864</td>\n",
       "      <td>0.0869</td>\n",
       "      <td>0.07017</td>\n",
       "      <td>0.1812</td>\n",
       "      <td>0.05667</td>\n",
       "      <td>...</td>\n",
       "      <td>23.41</td>\n",
       "      <td>158.80</td>\n",
       "      <td>1956.0</td>\n",
       "      <td>0.1238</td>\n",
       "      <td>0.1866</td>\n",
       "      <td>0.2416</td>\n",
       "      <td>0.1860</td>\n",
       "      <td>0.2750</td>\n",
       "      <td>0.08902</td>\n",
       "      <td>0</td>\n",
       "    </tr>\n",
       "    <tr>\n",
       "      <th>2</th>\n",
       "      <td>19.69</td>\n",
       "      <td>21.25</td>\n",
       "      <td>130.00</td>\n",
       "      <td>1203.0</td>\n",
       "      <td>0.10960</td>\n",
       "      <td>0.15990</td>\n",
       "      <td>0.1974</td>\n",
       "      <td>0.12790</td>\n",
       "      <td>0.2069</td>\n",
       "      <td>0.05999</td>\n",
       "      <td>...</td>\n",
       "      <td>25.53</td>\n",
       "      <td>152.50</td>\n",
       "      <td>1709.0</td>\n",
       "      <td>0.1444</td>\n",
       "      <td>0.4245</td>\n",
       "      <td>0.4504</td>\n",
       "      <td>0.2430</td>\n",
       "      <td>0.3613</td>\n",
       "      <td>0.08758</td>\n",
       "      <td>0</td>\n",
       "    </tr>\n",
       "    <tr>\n",
       "      <th>3</th>\n",
       "      <td>11.42</td>\n",
       "      <td>20.38</td>\n",
       "      <td>77.58</td>\n",
       "      <td>386.1</td>\n",
       "      <td>0.14250</td>\n",
       "      <td>0.28390</td>\n",
       "      <td>0.2414</td>\n",
       "      <td>0.10520</td>\n",
       "      <td>0.2597</td>\n",
       "      <td>0.09744</td>\n",
       "      <td>...</td>\n",
       "      <td>26.50</td>\n",
       "      <td>98.87</td>\n",
       "      <td>567.7</td>\n",
       "      <td>0.2098</td>\n",
       "      <td>0.8663</td>\n",
       "      <td>0.6869</td>\n",
       "      <td>0.2575</td>\n",
       "      <td>0.6638</td>\n",
       "      <td>0.17300</td>\n",
       "      <td>0</td>\n",
       "    </tr>\n",
       "    <tr>\n",
       "      <th>4</th>\n",
       "      <td>20.29</td>\n",
       "      <td>14.34</td>\n",
       "      <td>135.10</td>\n",
       "      <td>1297.0</td>\n",
       "      <td>0.10030</td>\n",
       "      <td>0.13280</td>\n",
       "      <td>0.1980</td>\n",
       "      <td>0.10430</td>\n",
       "      <td>0.1809</td>\n",
       "      <td>0.05883</td>\n",
       "      <td>...</td>\n",
       "      <td>16.67</td>\n",
       "      <td>152.20</td>\n",
       "      <td>1575.0</td>\n",
       "      <td>0.1374</td>\n",
       "      <td>0.2050</td>\n",
       "      <td>0.4000</td>\n",
       "      <td>0.1625</td>\n",
       "      <td>0.2364</td>\n",
       "      <td>0.07678</td>\n",
       "      <td>0</td>\n",
       "    </tr>\n",
       "  </tbody>\n",
       "</table>\n",
       "<p>5 rows × 31 columns</p>\n",
       "</div>"
      ],
      "text/plain": [
       "   mean radius  mean texture  mean perimeter  mean area  mean smoothness  \\\n",
       "0        17.99         10.38          122.80     1001.0          0.11840   \n",
       "1        20.57         17.77          132.90     1326.0          0.08474   \n",
       "2        19.69         21.25          130.00     1203.0          0.10960   \n",
       "3        11.42         20.38           77.58      386.1          0.14250   \n",
       "4        20.29         14.34          135.10     1297.0          0.10030   \n",
       "\n",
       "   mean compactness  mean concavity  mean concave points  mean symmetry  \\\n",
       "0           0.27760          0.3001              0.14710         0.2419   \n",
       "1           0.07864          0.0869              0.07017         0.1812   \n",
       "2           0.15990          0.1974              0.12790         0.2069   \n",
       "3           0.28390          0.2414              0.10520         0.2597   \n",
       "4           0.13280          0.1980              0.10430         0.1809   \n",
       "\n",
       "   mean fractal dimension  ...  worst texture  worst perimeter  worst area  \\\n",
       "0                 0.07871  ...          17.33           184.60      2019.0   \n",
       "1                 0.05667  ...          23.41           158.80      1956.0   \n",
       "2                 0.05999  ...          25.53           152.50      1709.0   \n",
       "3                 0.09744  ...          26.50            98.87       567.7   \n",
       "4                 0.05883  ...          16.67           152.20      1575.0   \n",
       "\n",
       "   worst smoothness  worst compactness  worst concavity  worst concave points  \\\n",
       "0            0.1622             0.6656           0.7119                0.2654   \n",
       "1            0.1238             0.1866           0.2416                0.1860   \n",
       "2            0.1444             0.4245           0.4504                0.2430   \n",
       "3            0.2098             0.8663           0.6869                0.2575   \n",
       "4            0.1374             0.2050           0.4000                0.1625   \n",
       "\n",
       "   worst symmetry  worst fractal dimension  target  \n",
       "0          0.4601                  0.11890       0  \n",
       "1          0.2750                  0.08902       0  \n",
       "2          0.3613                  0.08758       0  \n",
       "3          0.6638                  0.17300       0  \n",
       "4          0.2364                  0.07678       0  \n",
       "\n",
       "[5 rows x 31 columns]"
      ]
     },
     "execution_count": 3,
     "metadata": {},
     "output_type": "execute_result"
    }
   ],
   "source": [
    "df.head()"
   ]
  },
  {
   "cell_type": "code",
   "execution_count": 4,
   "metadata": {},
   "outputs": [
    {
     "name": "stdout",
     "output_type": "stream",
     "text": [
      "<class 'pandas.core.frame.DataFrame'>\n",
      "RangeIndex: 569 entries, 0 to 568\n",
      "Data columns (total 31 columns):\n",
      " #   Column                   Non-Null Count  Dtype  \n",
      "---  ------                   --------------  -----  \n",
      " 0   mean radius              569 non-null    float64\n",
      " 1   mean texture             569 non-null    float64\n",
      " 2   mean perimeter           569 non-null    float64\n",
      " 3   mean area                569 non-null    float64\n",
      " 4   mean smoothness          569 non-null    float64\n",
      " 5   mean compactness         569 non-null    float64\n",
      " 6   mean concavity           569 non-null    float64\n",
      " 7   mean concave points      569 non-null    float64\n",
      " 8   mean symmetry            569 non-null    float64\n",
      " 9   mean fractal dimension   569 non-null    float64\n",
      " 10  radius error             569 non-null    float64\n",
      " 11  texture error            569 non-null    float64\n",
      " 12  perimeter error          569 non-null    float64\n",
      " 13  area error               569 non-null    float64\n",
      " 14  smoothness error         569 non-null    float64\n",
      " 15  compactness error        569 non-null    float64\n",
      " 16  concavity error          569 non-null    float64\n",
      " 17  concave points error     569 non-null    float64\n",
      " 18  symmetry error           569 non-null    float64\n",
      " 19  fractal dimension error  569 non-null    float64\n",
      " 20  worst radius             569 non-null    float64\n",
      " 21  worst texture            569 non-null    float64\n",
      " 22  worst perimeter          569 non-null    float64\n",
      " 23  worst area               569 non-null    float64\n",
      " 24  worst smoothness         569 non-null    float64\n",
      " 25  worst compactness        569 non-null    float64\n",
      " 26  worst concavity          569 non-null    float64\n",
      " 27  worst concave points     569 non-null    float64\n",
      " 28  worst symmetry           569 non-null    float64\n",
      " 29  worst fractal dimension  569 non-null    float64\n",
      " 30  target                   569 non-null    int64  \n",
      "dtypes: float64(30), int64(1)\n",
      "memory usage: 137.9 KB\n"
     ]
    }
   ],
   "source": [
    "df.info()"
   ]
  },
  {
   "cell_type": "code",
   "execution_count": 5,
   "metadata": {},
   "outputs": [
    {
     "name": "stderr",
     "output_type": "stream",
     "text": [
      "INFO | 2024-08-16 00:24:58 | [PROCESS] Training the ML models\n",
      "100%|██████████| 6/6 [00:02<00:00,  2.69it/s]\n",
      "INFO | 2024-08-16 00:25:01 | [PROCESS] Model training is finished!\n"
     ]
    },
    {
     "data": {
      "text/html": [
       "<style type=\"text/css\">\n",
       "#T_8d922_row0_col1, #T_8d922_row4_col2, #T_8d922_row4_col3, #T_8d922_row4_col4, #T_8d922_row5_col2, #T_8d922_row5_col3, #T_8d922_row5_col4 {\n",
       "  background-color: green;\n",
       "}\n",
       "</style>\n",
       "<table id=\"T_8d922\">\n",
       "  <thead>\n",
       "    <tr>\n",
       "      <th class=\"blank level0\" >&nbsp;</th>\n",
       "      <th id=\"T_8d922_level0_col0\" class=\"col_heading level0 col0\" >model_name</th>\n",
       "      <th id=\"T_8d922_level0_col1\" class=\"col_heading level0 col1\" >accuracy</th>\n",
       "      <th id=\"T_8d922_level0_col2\" class=\"col_heading level0 col2\" >precision</th>\n",
       "      <th id=\"T_8d922_level0_col3\" class=\"col_heading level0 col3\" >recall</th>\n",
       "      <th id=\"T_8d922_level0_col4\" class=\"col_heading level0 col4\" >f1_score</th>\n",
       "    </tr>\n",
       "  </thead>\n",
       "  <tbody>\n",
       "    <tr>\n",
       "      <th id=\"T_8d922_level0_row0\" class=\"row_heading level0 row0\" >0</th>\n",
       "      <td id=\"T_8d922_row0_col0\" class=\"data row0 col0\" >CatBoostClassifier</td>\n",
       "      <td id=\"T_8d922_row0_col1\" class=\"data row0 col1\" >0.972000</td>\n",
       "      <td id=\"T_8d922_row0_col2\" class=\"data row0 col2\" >0.972200</td>\n",
       "      <td id=\"T_8d922_row0_col3\" class=\"data row0 col3\" >0.972000</td>\n",
       "      <td id=\"T_8d922_row0_col4\" class=\"data row0 col4\" >0.971900</td>\n",
       "    </tr>\n",
       "    <tr>\n",
       "      <th id=\"T_8d922_level0_row1\" class=\"row_heading level0 row1\" >1</th>\n",
       "      <td id=\"T_8d922_row1_col0\" class=\"data row1 col0\" >LogisticRegression</td>\n",
       "      <td id=\"T_8d922_row1_col1\" class=\"data row1 col1\" >0.965000</td>\n",
       "      <td id=\"T_8d922_row1_col2\" class=\"data row1 col2\" >0.965000</td>\n",
       "      <td id=\"T_8d922_row1_col3\" class=\"data row1 col3\" >0.965000</td>\n",
       "      <td id=\"T_8d922_row1_col4\" class=\"data row1 col4\" >0.965000</td>\n",
       "    </tr>\n",
       "    <tr>\n",
       "      <th id=\"T_8d922_level0_row2\" class=\"row_heading level0 row2\" >2</th>\n",
       "      <td id=\"T_8d922_row2_col0\" class=\"data row2 col0\" >RandomForestClassifier</td>\n",
       "      <td id=\"T_8d922_row2_col1\" class=\"data row2 col1\" >0.965000</td>\n",
       "      <td id=\"T_8d922_row2_col2\" class=\"data row2 col2\" >0.965000</td>\n",
       "      <td id=\"T_8d922_row2_col3\" class=\"data row2 col3\" >0.965000</td>\n",
       "      <td id=\"T_8d922_row2_col4\" class=\"data row2 col4\" >0.965000</td>\n",
       "    </tr>\n",
       "    <tr>\n",
       "      <th id=\"T_8d922_level0_row3\" class=\"row_heading level0 row3\" >3</th>\n",
       "      <td id=\"T_8d922_row3_col0\" class=\"data row3 col0\" >XGBClassifier</td>\n",
       "      <td id=\"T_8d922_row3_col1\" class=\"data row3 col1\" >0.958000</td>\n",
       "      <td id=\"T_8d922_row3_col2\" class=\"data row3 col2\" >0.958000</td>\n",
       "      <td id=\"T_8d922_row3_col3\" class=\"data row3 col3\" >0.958000</td>\n",
       "      <td id=\"T_8d922_row3_col4\" class=\"data row3 col4\" >0.958000</td>\n",
       "    </tr>\n",
       "    <tr>\n",
       "      <th id=\"T_8d922_level0_row4\" class=\"row_heading level0 row4\" >4</th>\n",
       "      <td id=\"T_8d922_row4_col0\" class=\"data row4 col0\" >LGBMClassifier</td>\n",
       "      <td id=\"T_8d922_row4_col1\" class=\"data row4 col1\" >0.951000</td>\n",
       "      <td id=\"T_8d922_row4_col2\" class=\"data row4 col2\" >0.951300</td>\n",
       "      <td id=\"T_8d922_row4_col3\" class=\"data row4 col3\" >0.951000</td>\n",
       "      <td id=\"T_8d922_row4_col4\" class=\"data row4 col4\" >0.951100</td>\n",
       "    </tr>\n",
       "    <tr>\n",
       "      <th id=\"T_8d922_level0_row5\" class=\"row_heading level0 row5\" >5</th>\n",
       "      <td id=\"T_8d922_row5_col0\" class=\"data row5 col0\" >DecisionTreeClassifier</td>\n",
       "      <td id=\"T_8d922_row5_col1\" class=\"data row5 col1\" >0.951000</td>\n",
       "      <td id=\"T_8d922_row5_col2\" class=\"data row5 col2\" >0.951300</td>\n",
       "      <td id=\"T_8d922_row5_col3\" class=\"data row5 col3\" >0.951000</td>\n",
       "      <td id=\"T_8d922_row5_col4\" class=\"data row5 col4\" >0.951100</td>\n",
       "    </tr>\n",
       "  </tbody>\n",
       "</table>\n"
      ],
      "text/plain": [
       "<pandas.io.formats.style.Styler at 0x168ced5d0>"
      ]
     },
     "metadata": {},
     "output_type": "display_data"
    }
   ],
   "source": [
    "classification_exp = Classification(df, target_col = \"target\")\n",
    "classification_exp.start_experiment()"
   ]
  },
  {
   "cell_type": "code",
   "execution_count": 6,
   "metadata": {},
   "outputs": [
    {
     "data": {
      "text/html": [
       "<style type=\"text/css\">\n",
       "#T_d2fef_row0_col1, #T_d2fef_row4_col2, #T_d2fef_row4_col3, #T_d2fef_row4_col4, #T_d2fef_row5_col2, #T_d2fef_row5_col3, #T_d2fef_row5_col4 {\n",
       "  background-color: green;\n",
       "}\n",
       "</style>\n",
       "<table id=\"T_d2fef\">\n",
       "  <thead>\n",
       "    <tr>\n",
       "      <th class=\"blank level0\" >&nbsp;</th>\n",
       "      <th id=\"T_d2fef_level0_col0\" class=\"col_heading level0 col0\" >model_name</th>\n",
       "      <th id=\"T_d2fef_level0_col1\" class=\"col_heading level0 col1\" >accuracy</th>\n",
       "      <th id=\"T_d2fef_level0_col2\" class=\"col_heading level0 col2\" >precision</th>\n",
       "      <th id=\"T_d2fef_level0_col3\" class=\"col_heading level0 col3\" >recall</th>\n",
       "      <th id=\"T_d2fef_level0_col4\" class=\"col_heading level0 col4\" >f1_score</th>\n",
       "    </tr>\n",
       "  </thead>\n",
       "  <tbody>\n",
       "    <tr>\n",
       "      <th id=\"T_d2fef_level0_row0\" class=\"row_heading level0 row0\" >0</th>\n",
       "      <td id=\"T_d2fef_row0_col0\" class=\"data row0 col0\" >CatBoostClassifier</td>\n",
       "      <td id=\"T_d2fef_row0_col1\" class=\"data row0 col1\" >0.972000</td>\n",
       "      <td id=\"T_d2fef_row0_col2\" class=\"data row0 col2\" >0.972200</td>\n",
       "      <td id=\"T_d2fef_row0_col3\" class=\"data row0 col3\" >0.972000</td>\n",
       "      <td id=\"T_d2fef_row0_col4\" class=\"data row0 col4\" >0.971900</td>\n",
       "    </tr>\n",
       "    <tr>\n",
       "      <th id=\"T_d2fef_level0_row1\" class=\"row_heading level0 row1\" >1</th>\n",
       "      <td id=\"T_d2fef_row1_col0\" class=\"data row1 col0\" >LogisticRegression</td>\n",
       "      <td id=\"T_d2fef_row1_col1\" class=\"data row1 col1\" >0.965000</td>\n",
       "      <td id=\"T_d2fef_row1_col2\" class=\"data row1 col2\" >0.965000</td>\n",
       "      <td id=\"T_d2fef_row1_col3\" class=\"data row1 col3\" >0.965000</td>\n",
       "      <td id=\"T_d2fef_row1_col4\" class=\"data row1 col4\" >0.965000</td>\n",
       "    </tr>\n",
       "    <tr>\n",
       "      <th id=\"T_d2fef_level0_row2\" class=\"row_heading level0 row2\" >2</th>\n",
       "      <td id=\"T_d2fef_row2_col0\" class=\"data row2 col0\" >RandomForestClassifier</td>\n",
       "      <td id=\"T_d2fef_row2_col1\" class=\"data row2 col1\" >0.965000</td>\n",
       "      <td id=\"T_d2fef_row2_col2\" class=\"data row2 col2\" >0.965000</td>\n",
       "      <td id=\"T_d2fef_row2_col3\" class=\"data row2 col3\" >0.965000</td>\n",
       "      <td id=\"T_d2fef_row2_col4\" class=\"data row2 col4\" >0.965000</td>\n",
       "    </tr>\n",
       "    <tr>\n",
       "      <th id=\"T_d2fef_level0_row3\" class=\"row_heading level0 row3\" >3</th>\n",
       "      <td id=\"T_d2fef_row3_col0\" class=\"data row3 col0\" >XGBClassifier</td>\n",
       "      <td id=\"T_d2fef_row3_col1\" class=\"data row3 col1\" >0.958000</td>\n",
       "      <td id=\"T_d2fef_row3_col2\" class=\"data row3 col2\" >0.958000</td>\n",
       "      <td id=\"T_d2fef_row3_col3\" class=\"data row3 col3\" >0.958000</td>\n",
       "      <td id=\"T_d2fef_row3_col4\" class=\"data row3 col4\" >0.958000</td>\n",
       "    </tr>\n",
       "    <tr>\n",
       "      <th id=\"T_d2fef_level0_row4\" class=\"row_heading level0 row4\" >4</th>\n",
       "      <td id=\"T_d2fef_row4_col0\" class=\"data row4 col0\" >LGBMClassifier</td>\n",
       "      <td id=\"T_d2fef_row4_col1\" class=\"data row4 col1\" >0.951000</td>\n",
       "      <td id=\"T_d2fef_row4_col2\" class=\"data row4 col2\" >0.951300</td>\n",
       "      <td id=\"T_d2fef_row4_col3\" class=\"data row4 col3\" >0.951000</td>\n",
       "      <td id=\"T_d2fef_row4_col4\" class=\"data row4 col4\" >0.951100</td>\n",
       "    </tr>\n",
       "    <tr>\n",
       "      <th id=\"T_d2fef_level0_row5\" class=\"row_heading level0 row5\" >5</th>\n",
       "      <td id=\"T_d2fef_row5_col0\" class=\"data row5 col0\" >DecisionTreeClassifier</td>\n",
       "      <td id=\"T_d2fef_row5_col1\" class=\"data row5 col1\" >0.951000</td>\n",
       "      <td id=\"T_d2fef_row5_col2\" class=\"data row5 col2\" >0.951300</td>\n",
       "      <td id=\"T_d2fef_row5_col3\" class=\"data row5 col3\" >0.951000</td>\n",
       "      <td id=\"T_d2fef_row5_col4\" class=\"data row5 col4\" >0.951100</td>\n",
       "    </tr>\n",
       "  </tbody>\n",
       "</table>\n"
      ],
      "text/plain": [
       "<pandas.io.formats.style.Styler at 0x1088016d0>"
      ]
     },
     "metadata": {},
     "output_type": "display_data"
    }
   ],
   "source": [
    "classification_exp.show_model_stats()"
   ]
  },
  {
   "cell_type": "code",
   "execution_count": 7,
   "metadata": {},
   "outputs": [],
   "source": [
    "best_model = classification_exp.get_best_models()"
   ]
  },
  {
   "cell_type": "code",
   "execution_count": 8,
   "metadata": {},
   "outputs": [
    {
     "name": "stdout",
     "output_type": "stream",
     "text": [
      "<catboost.core.CatBoostClassifier object at 0x13fcd87d0>\n"
     ]
    }
   ],
   "source": [
    "print(best_model)"
   ]
  },
  {
   "cell_type": "code",
   "execution_count": 9,
   "metadata": {},
   "outputs": [
    {
     "name": "stderr",
     "output_type": "stream",
     "text": [
      "INFO | 2024-08-16 00:25:01 | [PROCESS] Model Tuning process is started\n"
     ]
    },
    {
     "name": "stdout",
     "output_type": "stream",
     "text": [
      "Fitting 2 folds for each of 4 candidates, totalling 8 fits\n"
     ]
    },
    {
     "name": "stderr",
     "output_type": "stream",
     "text": [
      "INFO | 2024-08-16 00:25:05 | [PROCESS] Model Tuning process is finished\n"
     ]
    }
   ],
   "source": [
    "classification_exp.tune_model(best_model, tuning_method=\"randomized_search\", n_trials = 4, cv = 2)"
   ]
  },
  {
   "cell_type": "code",
   "execution_count": 10,
   "metadata": {},
   "outputs": [],
   "source": [
    "tuned_model = classification_exp.tuned_model"
   ]
  },
  {
   "cell_type": "code",
   "execution_count": 11,
   "metadata": {},
   "outputs": [
    {
     "data": {
      "text/plain": [
       "1.0"
      ]
     },
     "execution_count": 11,
     "metadata": {},
     "output_type": "execute_result"
    }
   ],
   "source": [
    "classification_exp.tuned_model_score"
   ]
  }
 ],
 "metadata": {
  "kernelspec": {
   "display_name": "Python 3",
   "language": "python",
   "name": "python3"
  },
  "language_info": {
   "codemirror_mode": {
    "name": "ipython",
    "version": 3
   },
   "file_extension": ".py",
   "mimetype": "text/x-python",
   "name": "python",
   "nbconvert_exporter": "python",
   "pygments_lexer": "ipython3",
   "version": "3.11.9"
  }
 },
 "nbformat": 4,
 "nbformat_minor": 2
}
